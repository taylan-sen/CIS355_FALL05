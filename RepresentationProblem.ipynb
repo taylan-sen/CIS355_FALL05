{
 "cells": [
  {
   "cell_type": "markdown",
   "metadata": {
    "colab_type": "text",
    "id": "view-in-github"
   },
   "source": [
    "<a href=\"https://colab.research.google.com/github/taylan-sen/CIS355_FALL05/blob/main/RepresentationProblem.ipynb\" target=\"_parent\"><img src=\"https://colab.research.google.com/assets/colab-badge.svg\" alt=\"Open In Colab\"/></a>"
   ]
  },
  {
   "cell_type": "markdown",
   "metadata": {
    "id": "t9If8bRM9On5"
   },
   "source": [
    "### This Notebook Demonstrates the Representation Problem as applied to the classic Farmer and the River riddle.\n",
    "\n",
    "\n"
   ]
  },
  {
   "cell_type": "markdown",
   "metadata": {
    "id": "H8dszOdqCkpJ"
   },
   "source": [
    "## The Representation Problem\n",
    "\n",
    "***\"The Representation Problem\"*** broadly involves the question: *How do we code states and actions of a real world problem in a programming language?*  \n",
    "\n",
    "A common way to model a problem and an AI agent as a potential solution is the **PEAS framework**:\n",
    "\n",
    "* **Performance measure** - how do we measure how well an AI agent is doing (e.g. successes - failures, or in terms of an AI agent as a player in a game: wins - losses)\n",
    "* **Environment** - The environment is where the agent operates. It is defined by: \n",
    "  * **state** and\n",
    "  * rules for how the agent's **actions** update the state\n",
    "* **Actions** - the possible player moves or choices\n",
    "* **Sensors** - the portion of the world state that the agent/player can \"see\".\n",
    "\n",
    "* **agent** - an autonomous program (or just a function) that sees through sensors and determines actions.\n",
    "\n",
    "\n",
    "States and actions may be **continuous** or **discreet**.\n",
    "\n",
    "\n",
    "#### Example: Farmer, Wolf, Sheep, Oats, River problem from class.\n",
    "\n",
    "* A farmer has a sheep, wolf, and bale of oats.\n",
    "* He needs to get them all across a river.\n",
    "* His boat only has space for the farmer and one other thing (oats, sheep, or wolf).\n",
    "* If the wolf and sheep are left alone, the wolf will eat the sheep.\n",
    "* If the sheep and oats are left behind, the sheep will eat the oats.\n",
    "* The farmer can bring items back and forth and can take as many trips as needed.\n",
    "\n",
    "**CHALLENGE**: How can the farmer get all three wolf, sheep, oats across the river all intact?\n",
    "\n",
    "***How can we use a computer program to represent and solve this problem?***"
   ]
  },
  {
   "cell_type": "code",
   "execution_count": 9,
   "metadata": {
    "colab": {
     "base_uri": "https://localhost:8080/"
    },
    "id": "1GcYhT2EEWej",
    "outputId": "f7382af4-2320-4dd0-bb95-c848580c4798"
   },
   "outputs": [
    {
     "name": "stdout",
     "output_type": "stream",
     "text": [
      "----------------------\n",
      "farmer\n",
      "wolf\n",
      "sheep\n",
      "oats\n",
      "======RIVER======\n",
      "----------------------\n"
     ]
    },
    {
     "name": "stdin",
     "output_type": "stream",
     "text": [
      "what is your move? [wolf, sheep, oats, ] sheep\n"
     ]
    },
    {
     "name": "stdout",
     "output_type": "stream",
     "text": [
      "----------------------\n",
      "wolf\n",
      "oats\n",
      "======RIVER======\n",
      "farmer\n",
      "sheep\n",
      "----------------------\n"
     ]
    },
    {
     "name": "stdin",
     "output_type": "stream",
     "text": [
      "what is your move? [wolf, sheep, oats, ] farmer\n"
     ]
    },
    {
     "name": "stdout",
     "output_type": "stream",
     "text": [
      "farmer move\n",
      "----------------------\n",
      "farmer\n",
      "wolf\n",
      "oats\n",
      "======RIVER======\n",
      "sheep\n",
      "----------------------\n"
     ]
    },
    {
     "name": "stdin",
     "output_type": "stream",
     "text": [
      "what is your move? [wolf, sheep, oats, ] wolf\n"
     ]
    },
    {
     "name": "stdout",
     "output_type": "stream",
     "text": [
      "----------------------\n",
      "oats\n",
      "======RIVER======\n",
      "farmer\n",
      "wolf\n",
      "sheep\n",
      "----------------------\n"
     ]
    },
    {
     "name": "stdin",
     "output_type": "stream",
     "text": [
      "what is your move? [wolf, sheep, oats, ] sheep\n"
     ]
    },
    {
     "name": "stdout",
     "output_type": "stream",
     "text": [
      "----------------------\n",
      "farmer\n",
      "sheep\n",
      "oats\n",
      "======RIVER======\n",
      "wolf\n",
      "----------------------\n"
     ]
    },
    {
     "name": "stdin",
     "output_type": "stream",
     "text": [
      "what is your move? [wolf, sheep, oats, ] oats\n"
     ]
    },
    {
     "name": "stdout",
     "output_type": "stream",
     "text": [
      "----------------------\n",
      "sheep\n",
      "======RIVER======\n",
      "farmer\n",
      "wolf\n",
      "oats\n",
      "----------------------\n"
     ]
    },
    {
     "name": "stdin",
     "output_type": "stream",
     "text": [
      "what is your move? [wolf, sheep, oats, ] farmer\n"
     ]
    },
    {
     "name": "stdout",
     "output_type": "stream",
     "text": [
      "farmer move\n",
      "----------------------\n",
      "farmer\n",
      "sheep\n",
      "======RIVER======\n",
      "wolf\n",
      "oats\n",
      "----------------------\n"
     ]
    },
    {
     "name": "stdin",
     "output_type": "stream",
     "text": [
      "what is your move? [wolf, sheep, oats, ] wolf\n"
     ]
    },
    {
     "name": "stdout",
     "output_type": "stream",
     "text": [
      "----------------------\n",
      "farmer\n",
      "sheep\n",
      "======RIVER======\n",
      "wolf\n",
      "oats\n",
      "----------------------\n"
     ]
    },
    {
     "name": "stdin",
     "output_type": "stream",
     "text": [
      "what is your move? [wolf, sheep, oats, ] sheep\n"
     ]
    },
    {
     "name": "stdout",
     "output_type": "stream",
     "text": [
      "----------------------\n",
      "======RIVER======\n",
      "farmer\n",
      "wolf\n",
      "sheep\n",
      "oats\n",
      "----------------------\n",
      "WIN!\n"
     ]
    }
   ],
   "source": [
    "# IMPLEMENTATION 1 - using simple python\n",
    "# We envision the river as being horizontal. Also, wach \n",
    "# of the entities: farmer, sheep, wolf, oats are either above (on top) \n",
    "# or below the river.\n",
    "# Additional variables are used to indicate whether the sheep is alive, and\n",
    "# whether the oats are intact.\n",
    "\n",
    "# STATE\n",
    "farmer_is_on_top = True\n",
    "wolf_is_on_top = True\n",
    "sheep_is_on_top = True\n",
    "oats_is_on_top = True\n",
    "\n",
    "oats_is_intact = True\n",
    "sheep_is_alive = True\n",
    "\n",
    "\n",
    "def print_state():\n",
    "  \"\"\"Just prints out state variable values\"\"\"\n",
    "  print('farmer_is_on_top:', farmer_is_on_top)\n",
    "  print('wolf_is_on_top:', wolf_is_on_top)\n",
    "  print('sheep_is_on_top:', sheep_is_on_top)\n",
    "  print('oats_is_on_top:', oats_is_on_top)\n",
    "  print('oats_is_intact:', oats_is_intact)\n",
    "  print('sheep_is_alive:', sheep_is_alive)\n",
    "\n",
    "def display_state():\n",
    "  \"\"\" Prints all the parties on top of river bank, followed by =========,\n",
    "  then all parties below the river bank \"\"\"\n",
    "  print('----------------------')\n",
    "  if farmer_is_on_top:\n",
    "    print('farmer')\n",
    "  if wolf_is_on_top:\n",
    "    print('wolf')\n",
    "  if sheep_is_on_top:\n",
    "    print('sheep')\n",
    "  if oats_is_on_top:\n",
    "    print('oats')\n",
    "\n",
    "  print('======RIVER======')\n",
    "\n",
    "  if not farmer_is_on_top:\n",
    "    print('farmer')\n",
    "  if not wolf_is_on_top:\n",
    "    print('wolf')\n",
    "  if not sheep_is_on_top:\n",
    "    print('sheep')\n",
    "  if not oats_is_on_top:\n",
    "    print('oats')\n",
    "  print('----------------------')\n",
    "\n",
    "\n",
    "# ACTIONS\n",
    "# the possible actions that the farmer/agent can take, or in other\n",
    "# words the possible moves the farmer can take are to use the boat\n",
    "# and take along one of: the wolf, sheep, oats, or nothing.\n",
    "def is_action_valid(action):\n",
    "  \"\"\" action must be one of ['wolf', 'sheep', 'oats', 'farmer'].\n",
    "  Returns False is move is illegal. Returns True if valid. \"\"\"\n",
    "\n",
    "  if action == 'sheep':\n",
    "    # check if farmer and sheep are on different sides\n",
    "    move_is_legal = farmer_is_on_top == sheep_is_on_top\n",
    "  elif action == 'wolf':\n",
    "    if farmer_is_on_top != wolf_is_on_top:\n",
    "      move_is_legal = False\n",
    "    else:\n",
    "      move_is_legal = True\n",
    "  elif action == 'oats':\n",
    "    if farmer_is_on_top != oats_is_on_top:\n",
    "      move_is_legal = False\n",
    "    else:\n",
    "      move_is_legal = True\n",
    "  elif action == 'farmer': \n",
    "    move_is_legal = True\n",
    "  else:\n",
    "    move_is_legal = False\n",
    "    print('ILLEGAL MOVE')\n",
    "\n",
    "  return move_is_legal\n",
    "\n",
    "\n",
    "def move(action):\n",
    "  \"\"\" Updates STATE variables given that the farmers action.\n",
    "  action must be one of ['wolf', 'sheep', 'oats', 'farmer'].\n",
    "  Returns False if game is not over yet. Returns True if win or loss. \"\"\"\n",
    "  global farmer_is_on_top\n",
    "  global sheep_is_on_top, wolf_is_on_top, farmer_is_on_top, oats_is_on_top\n",
    "  global sheep_is_alive, oats_is_intact\n",
    "\n",
    "  # update state\n",
    "  farmer_is_on_top = not farmer_is_on_top # switching farmer side\n",
    "\n",
    "  if action == 'sheep':\n",
    "    sheep_is_on_top = not sheep_is_on_top\n",
    "  elif action == 'wolf':\n",
    "    wolf_is_on_top = not wolf_is_on_top\n",
    "  elif action == 'oats':\n",
    "    oats_is_on_top = not oats_is_on_top\n",
    "  else:\n",
    "    print('farmer move')\n",
    "\n",
    "  # sheep alive?\n",
    "  if (sheep_is_on_top == wolf_is_on_top) and (sheep_is_on_top != farmer_is_on_top):\n",
    "    sheep_is_alive = False\n",
    "    print('SHEEP GOT EATEN BY WOLF!')\n",
    "\n",
    "  # oats are intact?\n",
    "  if (sheep_is_on_top == oats_is_on_top) and (sheep_is_on_top != farmer_is_on_top):\n",
    "    oats_is_intact = False\n",
    "    print('OATS GOT EATEN BY SHEEP!')\n",
    "\n",
    "  # check if loss\n",
    "  if not sheep_is_alive or not oats_is_intact:\n",
    "    return 'LOSS'\n",
    "  elif not sheep_is_on_top and not oats_is_on_top and not wolf_is_on_top:\n",
    "    return \"WIN!\"\n",
    "\n",
    "  return False\n",
    "\n",
    "\n",
    "# -------MAIN-----\n",
    "game_over = False\n",
    "while not game_over:\n",
    "  display_state()\n",
    "  player_action = input('what is your move? [wolf, sheep, oats, ]')\n",
    "  if not is_action_valid(player_action):\n",
    "    continue\n",
    "  game_over = move(player_action)\n",
    "display_state()\n",
    "print(game_over)"
   ]
  },
  {
   "cell_type": "markdown",
   "metadata": {
    "id": "Ou-Fi7EJEUp9"
   },
   "source": [
    "### Implementation II - object oriented\n",
    "\n",
    "Some of you more familiar with programming my be squirming in your seat with the use of global variables and other coding inefficiencies. This is the same solution is coded using slightly more advanced python features, namely using a class to group variables and functions, and a dict for the state position variables."
   ]
  },
  {
   "cell_type": "code",
   "execution_count": 13,
   "metadata": {
    "colab": {
     "base_uri": "https://localhost:8080/"
    },
    "id": "IeLEwoTbCm5z",
    "outputId": "c82e8c78-3a4c-47ce-c3b1-25a5ee0761e0"
   },
   "outputs": [
    {
     "name": "stdout",
     "output_type": "stream",
     "text": [
      "\n",
      "----------------------\n",
      "farmer\n",
      "wolf\n",
      "sheep\n",
      "oats\n",
      "======RIVER======\n",
      "----------------------\n",
      "\n"
     ]
    },
    {
     "name": "stdin",
     "output_type": "stream",
     "text": [
      "what is your move? [wolf, sheep, oats, farmer]  sheep\n"
     ]
    },
    {
     "name": "stdout",
     "output_type": "stream",
     "text": [
      "\n",
      "----------------------\n",
      "wolf\n",
      "oats\n",
      "======RIVER======\n",
      "farmer\n",
      "sheep\n",
      "----------------------\n",
      "\n"
     ]
    },
    {
     "name": "stdin",
     "output_type": "stream",
     "text": [
      "what is your move? [wolf, sheep, oats, farmer]  farmer\n"
     ]
    },
    {
     "name": "stdout",
     "output_type": "stream",
     "text": [
      "\n",
      "----------------------\n",
      "farmer\n",
      "wolf\n",
      "oats\n",
      "======RIVER======\n",
      "sheep\n",
      "----------------------\n",
      "\n"
     ]
    },
    {
     "name": "stdin",
     "output_type": "stream",
     "text": [
      "what is your move? [wolf, sheep, oats, farmer]  oats\n"
     ]
    },
    {
     "name": "stdout",
     "output_type": "stream",
     "text": [
      "\n",
      "----------------------\n",
      "wolf\n",
      "======RIVER======\n",
      "farmer\n",
      "sheep\n",
      "oats\n",
      "----------------------\n",
      "\n"
     ]
    },
    {
     "name": "stdin",
     "output_type": "stream",
     "text": [
      "what is your move? [wolf, sheep, oats, farmer]  sheep\n"
     ]
    },
    {
     "name": "stdout",
     "output_type": "stream",
     "text": [
      "\n",
      "----------------------\n",
      "farmer\n",
      "wolf\n",
      "sheep\n",
      "======RIVER======\n",
      "oats\n",
      "----------------------\n",
      "\n"
     ]
    },
    {
     "name": "stdin",
     "output_type": "stream",
     "text": [
      "what is your move? [wolf, sheep, oats, farmer]  wolf\n"
     ]
    },
    {
     "name": "stdout",
     "output_type": "stream",
     "text": [
      "\n",
      "----------------------\n",
      "sheep\n",
      "======RIVER======\n",
      "farmer\n",
      "wolf\n",
      "oats\n",
      "----------------------\n",
      "\n"
     ]
    },
    {
     "name": "stdin",
     "output_type": "stream",
     "text": [
      "what is your move? [wolf, sheep, oats, farmer]  farmer\n"
     ]
    },
    {
     "name": "stdout",
     "output_type": "stream",
     "text": [
      "\n",
      "----------------------\n",
      "farmer\n",
      "sheep\n",
      "======RIVER======\n",
      "wolf\n",
      "oats\n",
      "----------------------\n",
      "\n"
     ]
    },
    {
     "name": "stdin",
     "output_type": "stream",
     "text": [
      "what is your move? [wolf, sheep, oats, farmer]  sheep\n"
     ]
    },
    {
     "name": "stdout",
     "output_type": "stream",
     "text": [
      "\n",
      "----------------------\n",
      "======RIVER======\n",
      "farmer\n",
      "wolf\n",
      "sheep\n",
      "oats\n",
      "----------------------\n",
      "\n",
      "YOU WIN!\n"
     ]
    }
   ],
   "source": [
    "\n",
    "class FarmerGame:\n",
    "  # INITIALIZE STATE\n",
    "  def __init__(self):\n",
    "    self.on_top = {'farmer' : True,\n",
    "                  'wolf' : True,\n",
    "                  'sheep' : True,\n",
    "                  'oats' : True}\n",
    "    self.oats_is_intact = True\n",
    "    self.sheep_is_alive = True\n",
    "    self.game_over = False\n",
    "\n",
    "\n",
    "  def display_state(self):\n",
    "    \"\"\" Prints all the parties on top of river bank, followed by =========,\n",
    "    then all parties below the river bank \"\"\"\n",
    "\n",
    "    print('\\n----------------------')\n",
    "    for key, value in self.on_top.items():\n",
    "      if value:\n",
    "        print(key)\n",
    "\n",
    "    print('======RIVER======')\n",
    "\n",
    "    for key, value in self.on_top.items():\n",
    "      if not value:\n",
    "        print(key)\n",
    "    print('----------------------\\n')\n",
    "\n",
    "\n",
    "  # ACTIONS\n",
    "\n",
    "  def is_action_valid(self, action):\n",
    "    \"\"\" action must be one of ['wolf', 'sheep', 'oats', 'farmer'].\n",
    "    Returns False is move is illegal. Returns True if valid. \"\"\"\n",
    "\n",
    "    # verify is thing is a legal\n",
    "    if action not in self.on_top.keys():\n",
    "      move_is_legal = False\n",
    "    else: \n",
    "      # if farmer and action item on same side return True\n",
    "      move_is_legal =  self.on_top['farmer'] == self.on_top[action]\n",
    "\n",
    "    if not move_is_legal:\n",
    "      print('ILLEGAL MOVE')\n",
    "    \n",
    "    return move_is_legal\n",
    "\n",
    "\n",
    "  def move(self, action):\n",
    "    \"\"\" Updates STATE variables given that the farmer moves thing.\n",
    "    action must be one of ['wolf', 'sheep', 'oats', 'farmer'].\n",
    "    Returns False if game is not over yet. Returns True if win or loss. \"\"\"\n",
    "\n",
    "    # update state\n",
    "    # switching farmer side\n",
    "    self.on_top['farmer'] = not self.on_top['farmer']\n",
    "\n",
    "    # switching action item side\n",
    "    if action != 'farmer':\n",
    "      self.on_top[action] = not self.on_top[action]\n",
    "\n",
    "    # sheep alive?\n",
    "    if ( (self.on_top['sheep'] == self.on_top['wolf'])\n",
    "        and (self.on_top['sheep'] != self.on_top['farmer'])):\n",
    "      self.sheep_is_alive = False\n",
    "      print('SHEEP GOT EATEN BY WOLF!')\n",
    "\n",
    "    # oats are intact?\n",
    "    if ( (self.on_top['sheep'] == self.on_top['oats'])\n",
    "        and (self.on_top['sheep'] != self.on_top['farmer']) ):\n",
    "      self.oats_is_intact = False\n",
    "      print('OATS GOT EATEN BY SHEEP!')\n",
    "\n",
    "    # check if loss\n",
    "    if not self.sheep_is_alive or not self.oats_is_intact:\n",
    "      self.game_over = 'YOU LOSE'\n",
    "    elif (not self.on_top['sheep']\n",
    "              and not self.on_top['oats']\n",
    "              and not self.on_top['wolf']):\n",
    "      self.game_over = \"YOU WIN!\"\n",
    "    else:\n",
    "      self.game_over = False\n",
    "\n",
    "\n",
    "# -------MAIN-----\n",
    "game = FarmerGame()\n",
    "while not game.game_over:\n",
    "  game.display_state()\n",
    "  player_action = input('what is your move? [wolf, sheep, oats, farmer] ')\n",
    "  if not game.is_action_valid(player_action):\n",
    "    continue\n",
    "  game.move(player_action)\n",
    "game.display_state()\n",
    "print(game.game_over)"
   ]
  }
 ],
 "metadata": {
  "colab": {
   "include_colab_link": true,
   "provenance": []
  },
  "kernelspec": {
   "display_name": "Python 3 (ipykernel)",
   "language": "python",
   "name": "python3"
  },
  "language_info": {
   "codemirror_mode": {
    "name": "ipython",
    "version": 3
   },
   "file_extension": ".py",
   "mimetype": "text/x-python",
   "name": "python",
   "nbconvert_exporter": "python",
   "pygments_lexer": "ipython3",
   "version": "3.10.14"
  }
 },
 "nbformat": 4,
 "nbformat_minor": 4
}
