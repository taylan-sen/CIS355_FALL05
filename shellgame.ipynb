{
  "nbformat": 4,
  "nbformat_minor": 0,
  "metadata": {
    "colab": {
      "provenance": [],
      "authorship_tag": "ABX9TyPpu3esrh+BvxdFtIAvOfet",
      "include_colab_link": true
    },
    "kernelspec": {
      "name": "python3",
      "display_name": "Python 3"
    },
    "language_info": {
      "name": "python"
    }
  },
  "cells": [
    {
      "cell_type": "markdown",
      "metadata": {
        "id": "view-in-github",
        "colab_type": "text"
      },
      "source": [
        "<a href=\"https://colab.research.google.com/github/taylan-sen/CIS355_FALL05/blob/main/shellgame.ipynb\" target=\"_parent\"><img src=\"https://colab.research.google.com/assets/colab-badge.svg\" alt=\"Open In Colab\"/></a>"
      ]
    },
    {
      "cell_type": "code",
      "execution_count": 1,
      "metadata": {
        "colab": {
          "base_uri": "https://localhost:8080/"
        },
        "id": "ZeQsoQZTK-8R",
        "outputId": "bde89705-2407-47a1-98df-8175f8ea5237"
      },
      "outputs": [
        {
          "output_type": "stream",
          "name": "stdout",
          "text": [
            "['*']\n",
            "['*', '*', '*']\n",
            "['*', '*', '*', '*', '*']\n"
          ]
        }
      ],
      "source": [
        "state = ['*',  '*','*','*',  '*','*','*','*','*']\n",
        "\n",
        "def display_state(s):\n",
        "  print(s[0:1])\n",
        "  print(s[1:4])\n",
        "  print(s[4:9])\n",
        "\n",
        "display_state(state)\n",
        "\n"
      ]
    },
    {
      "cell_type": "code",
      "source": [
        "# MOVES\n",
        "#  0\n",
        "#  1, 2, 3\n",
        "#  4,5,6,7,8\n",
        "\n",
        "def update_state(state, move):\n",
        "  if state[move] != '*':\n",
        "    print('INVALID MOVE')\n",
        "  else:\n",
        "    if move >= 4:\n",
        "      for i in range(move,9):\n",
        "        state[i] = '-'\n",
        "    elif move >= 1:\n",
        "      for i in range(move,4):\n",
        "        state[i] = '-'\n",
        "    else:\n",
        "      state[0] = '-'\n",
        "\n",
        "update_state(state,3)\n",
        "display_state(state)"
      ],
      "metadata": {
        "colab": {
          "base_uri": "https://localhost:8080/"
        },
        "id": "sPgtpgEvLD23",
        "outputId": "e8dd7ea0-7314-4ab4-bf38-be7f073fd924"
      },
      "execution_count": 5,
      "outputs": [
        {
          "output_type": "stream",
          "name": "stdout",
          "text": [
            "INVALID MOVE\n",
            "['*']\n",
            "['*', '*', '-']\n",
            "['*', '*', '*', '*', '*']\n"
          ]
        }
      ]
    },
    {
      "cell_type": "code",
      "source": [
        "state = ['*',  '*','*','*',  '*','*','*','*','*']\n",
        "\n",
        "while True:\n",
        "  display_state(state)\n",
        "  move = int(input('What is your move? '))\n",
        "  update_state(state, move)\n",
        "  if state == ['-', '-', '-', '-','-','-','-','-', '-']:\n",
        "    print('WINNER!')\n",
        "    break\n",
        ""
      ],
      "metadata": {
        "id": "5AIfutVPLGMG"
      },
      "execution_count": null,
      "outputs": []
    }
  ]
}