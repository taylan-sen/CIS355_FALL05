{
 "cells": [
  {
   "cell_type": "markdown",
   "metadata": {
    "colab_type": "text",
    "id": "view-in-github"
   },
   "source": [
    "<a href=\"https://colab.research.google.com/github/taylan-sen/CIS355_FALL05/blob/main/shellgame.ipynb\" target=\"_parent\"><img src=\"https://colab.research.google.com/assets/colab-badge.svg\" alt=\"Open In Colab\"/></a>"
   ]
  },
  {
   "cell_type": "markdown",
   "metadata": {},
   "source": [
    "In this notebook we explore the *Representation Problem* for the game of Nim. "
   ]
  },
  {
   "cell_type": "markdown",
   "metadata": {},
   "source": [
    "## Nim Game (simplified) - i.e. the \"Shell\" Game we played in class\n",
    "\n",
    "Shells are aranged in three rows with 1 in the first row, 3 in the second row, and 5 in the third row:  \n",
    "🐚  \n",
    "🐚🐚🐚  \n",
    "🐚🐚🐚🐚🐚  \n",
    "\n",
    "* Two players take turns removing shells from one row.\n",
    "* Players are allowed to take as many shells as they want in one row, any row they want, as long as they take at least 1 shell.\n",
    "* The object of the game is to make your opponent take the last shell.\n",
    "\n",
    "How should we represent this problem in Python?  \n",
    "\n",
    "Consider simplicity, functionality, ease of coding, ease of understanding, ease of testing, as well as the potential to have an AI agent search for a solution.\n"
   ]
  },
  {
   "cell_type": "markdown",
   "metadata": {},
   "source": [
    "### representing state as a list\n",
    "\n",
    "A perhaps crude, but very simple way of expressing the game state is to use a single 9 element list. \n",
    "* Each element can be either an asterisk '*' or dash '-'.\n",
    "* An asterisk represents a shell is still on the board in that spot.\n",
    "* A dash '-' indicates that the shell has been removed from that spot.\n",
    "\n",
    "  \n",
    "<hr>\n",
    "\n",
    "    state = ['*',  '*','*','*',  '*','*','*','*','*']\n",
    "\n",
    "The above state assignment represents a full board, with all the shells still on the board.  \n",
    "🐚  \n",
    "🐚🐚🐚  \n",
    "🐚🐚🐚🐚🐚  \n",
    "\n",
    "<hr>\n",
    "\n",
    "    state = ['*',  '*','*','-',  '*','*','*','*','*']\n",
    "\n",
    "This state represents a board in which someone has removed a shell from the middle row.  \n",
    "🐚  \n",
    "🐚🐚  \n",
    "🐚🐚🐚🐚🐚  \n",
    "\n",
    "<hr>\n",
    "\n",
    "    state = ['-',  '*','*','-',  '*','*','*','*','*']\n",
    "\n",
    "This state represents a board in which someone has also removed the shell from the top row.  \n",
    "    \n",
    "🐚🐚  \n",
    "🐚🐚🐚🐚🐚  \n",
    "\n",
    "<hr>\n",
    "\n",
    "state[0] represents the top of the \"pyramid\". state[1] represents the first spot in the second row. Here are the list index numbers written to show the spot they represent.\n",
    "\n",
    "0  \n",
    "1  2  3  \n",
    "4  5  6  7  8\n",
    "\n",
    "\n"
   ]
  },
  {
   "cell_type": "markdown",
   "metadata": {},
   "source": [
    "### representing player move as a single number\n",
    "\n",
    "We can have a player indicate their move as a single integer from 0 to 8 representing the starting spot they wish to remove shells from, removing all shells to the right including the chosen spot.  \n",
    "\n",
    "For example, starting from a full board:\n",
    "\n",
    "    state = ['*',  '*','*','*',  '*','*','*','*','*']\n",
    "\n",
    "🐚  \n",
    "🐚🐚🐚  \n",
    "🐚🐚🐚🐚🐚  \n",
    "\n",
    "If a player selects move 0, it means they remove the top shell:\n",
    "\n",
    "    state = ['-',  '*','*','*',  '*','*','*','*','*']\n",
    "    \n",
    "🐚🐚🐚  \n",
    "🐚🐚🐚🐚🐚  \n",
    "\n",
    "This can be accomplished with the python code:\n",
    "\n",
    "    state[0] = '-'\n",
    "\n",
    "<hr>\n",
    "\n",
    "If the other player now selects move = 7, they remove the two rightmost shells from the bottom row.\n",
    "\n",
    "    state = ['-',  '*','*','*',  '*','*','*','*','*']\n",
    "    \n",
    "🐚🐚🐚  \n",
    "🐚🐚🐚🐚🐚  \n",
    "\n",
    "Similarly, this could have been accomplished with the python code:\n",
    "\n",
    "    state[7] = '-'\n",
    "    state[8] = '-'\n",
    "\n",
    "\n"
   ]
  },
  {
   "cell_type": "code",
   "execution_count": 6,
   "metadata": {
    "colab": {
     "base_uri": "https://localhost:8080/"
    },
    "id": "ZeQsoQZTK-8R",
    "outputId": "bde89705-2407-47a1-98df-8175f8ea5237"
   },
   "outputs": [
    {
     "name": "stdout",
     "output_type": "stream",
     "text": [
      "['*']\n",
      "['*', '*', '*']\n",
      "['*', '*', '*', '*', '*']\n"
     ]
    }
   ],
   "source": [
    "state = ['*',  '*','*','*',  '*','*','*','*','*']\n",
    "def display_state(s):\n",
    "  \"\"\"Print out a state variable in thre rows to make it easier to interpret. \"\"\"\n",
    "  print(s[0:1])\n",
    "  print(s[1:4])\n",
    "  print(s[4:9])\n",
    "\n",
    "display_state(state)\n",
    "\n"
   ]
  },
  {
   "cell_type": "code",
   "execution_count": 8,
   "metadata": {
    "colab": {
     "base_uri": "https://localhost:8080/"
    },
    "id": "sPgtpgEvLD23",
    "outputId": "e8dd7ea0-7314-4ab4-bf38-be7f073fd924"
   },
   "outputs": [
    {
     "name": "stdout",
     "output_type": "stream",
     "text": [
      "['*']\n",
      "['*', '*', '-']\n",
      "['*', '*', '*', '*', '*']\n"
     ]
    }
   ],
   "source": [
    "# MOVES\n",
    "#  0\n",
    "#  1, 2, 3\n",
    "#  4,5,6,7,8\n",
    "\n",
    "def update_state(state, move):\n",
    "  if state[move] != '*':\n",
    "    print('INVALID MOVE')\n",
    "  else:\n",
    "    if move >= 4:\n",
    "      for i in range(move,9):\n",
    "        state[i] = '-'\n",
    "    elif move >= 1:\n",
    "      for i in range(move,4):\n",
    "        state[i] = '-'\n",
    "    else:\n",
    "      state[0] = '-'\n",
    "\n",
    "update_state(state,3)\n",
    "display_state(state)"
   ]
  },
  {
   "cell_type": "code",
   "execution_count": 9,
   "metadata": {
    "id": "5AIfutVPLGMG"
   },
   "outputs": [
    {
     "name": "stdout",
     "output_type": "stream",
     "text": [
      "['*']\n",
      "['*', '*', '*']\n",
      "['*', '*', '*', '*', '*']\n"
     ]
    },
    {
     "name": "stdin",
     "output_type": "stream",
     "text": [
      "What is your move?  0\n"
     ]
    },
    {
     "name": "stdout",
     "output_type": "stream",
     "text": [
      "['-']\n",
      "['*', '*', '*']\n",
      "['*', '*', '*', '*', '*']\n"
     ]
    },
    {
     "name": "stdin",
     "output_type": "stream",
     "text": [
      "What is your move?  3\n"
     ]
    },
    {
     "name": "stdout",
     "output_type": "stream",
     "text": [
      "['-']\n",
      "['*', '*', '-']\n",
      "['*', '*', '*', '*', '*']\n"
     ]
    },
    {
     "name": "stdin",
     "output_type": "stream",
     "text": [
      "What is your move?  0\n"
     ]
    },
    {
     "name": "stdout",
     "output_type": "stream",
     "text": [
      "INVALID MOVE\n",
      "['-']\n",
      "['*', '*', '-']\n",
      "['*', '*', '*', '*', '*']\n"
     ]
    },
    {
     "name": "stdin",
     "output_type": "stream",
     "text": [
      "What is your move?  1\n"
     ]
    },
    {
     "name": "stdout",
     "output_type": "stream",
     "text": [
      "['-']\n",
      "['-', '-', '-']\n",
      "['*', '*', '*', '*', '*']\n"
     ]
    },
    {
     "name": "stdin",
     "output_type": "stream",
     "text": [
      "What is your move?  4\n"
     ]
    },
    {
     "name": "stdout",
     "output_type": "stream",
     "text": [
      "WINNER!\n"
     ]
    }
   ],
   "source": [
    "# HUMAN VS HUMAN\n",
    "state = ['*',  '*','*','*',  '*','*','*','*','*']\n",
    "\n",
    "while True:\n",
    "  display_state(state)\n",
    "  move = int(input('What is your move? '))\n",
    "  update_state(state, move)\n",
    "  if state == ['-', '-', '-', '-','-','-','-','-', '-']:\n",
    "    print('WINNER!')\n",
    "    break\n"
   ]
  },
  {
   "cell_type": "code",
   "execution_count": 12,
   "metadata": {},
   "outputs": [],
   "source": [
    "import random \n",
    "\n",
    "def random_agent(state):\n",
    "  \"\"\" Given the game state, returns a valid move by random selection \"\"\"\n",
    "  valid_moves = []\n",
    "  for move in range(9):\n",
    "    if state[move] == '*':\n",
    "      valid_moves.append(move)\n",
    "  return random.choice(valid_moves)"
   ]
  },
  {
   "cell_type": "code",
   "execution_count": 16,
   "metadata": {},
   "outputs": [
    {
     "data": {
      "text/plain": [
       "2"
      ]
     },
     "execution_count": 16,
     "metadata": {},
     "output_type": "execute_result"
    }
   ],
   "source": [
    "computer_move"
   ]
  },
  {
   "cell_type": "code",
   "execution_count": 18,
   "metadata": {},
   "outputs": [
    {
     "name": "stdout",
     "output_type": "stream",
     "text": [
      "['*']\n",
      "['*', '*', '*']\n",
      "['*', '*', '*', '*', '*']\n"
     ]
    },
    {
     "name": "stdin",
     "output_type": "stream",
     "text": [
      "What is your move?  4\n"
     ]
    },
    {
     "name": "stdout",
     "output_type": "stream",
     "text": [
      "['*']\n",
      "['*', '*', '-']\n",
      "['-', '-', '-', '-', '-']\n"
     ]
    },
    {
     "name": "stdin",
     "output_type": "stream",
     "text": [
      "What is your move?  0\n"
     ]
    },
    {
     "name": "stdout",
     "output_type": "stream",
     "text": [
      "COMPUTER TAKES LAST SHELL. YOU WIN!\n"
     ]
    }
   ],
   "source": [
    "# HUMAN VS COMPUTER\n",
    "state = ['*',  '*','*','*',  '*','*','*','*','*']\n",
    "\n",
    "while True:\n",
    "  display_state(state)\n",
    "  human_move = int(input('What is your move? '))\n",
    "  if state[human_move] != '*':\n",
    "      print('Invalid move, re-enter.')\n",
    "      continue\n",
    "  update_state(state, human_move)\n",
    "  if state == ['-', '-', '-', '-','-','-','-','-', '-']:\n",
    "    print('HUMAN TAKES LAST SHELL. YOU LOSE!')\n",
    "    break\n",
    "  computer_move = random_agent(state)\n",
    "  update_state(state, computer_move)\n",
    "  if state == ['-', '-', '-', '-','-','-','-','-', '-']:\n",
    "    print('COMPUTER TAKES LAST SHELL. YOU WIN!')\n",
    "    break\n",
    "  "
   ]
  },
  {
   "cell_type": "markdown",
   "metadata": {},
   "source": [
    "### QUESTIONS\n",
    "1. Create a new function **better_agent(state)** which does a better job than random_agent. Demonstrate your code.\n",
    "2. How many possible games are there between two players?\n",
    "   * Consider each different sequence of valid moves a different game.\n",
    "   * Start with an upper bound and then work towards a more specific answer.\n",
    "3. Given your answer in 2 above, how feasible is it for a typical personal computer to evaluate all possible games from a given state? (Assume that a typical computer can evalue 1 Gig moves per second.)"
   ]
  },
  {
   "cell_type": "markdown",
   "metadata": {},
   "source": [
    "See also:   \n",
    "https://www.archimedes-lab.org/game_nim/nim.html  \n",
    "https://en.wikipedia.org/wiki/Nim\n"
   ]
  }
 ],
 "metadata": {
  "colab": {
   "authorship_tag": "ABX9TyPpu3esrh+BvxdFtIAvOfet",
   "include_colab_link": true,
   "provenance": []
  },
  "kernelspec": {
   "display_name": "Python 3 (ipykernel)",
   "language": "python",
   "name": "python3"
  },
  "language_info": {
   "codemirror_mode": {
    "name": "ipython",
    "version": 3
   },
   "file_extension": ".py",
   "mimetype": "text/x-python",
   "name": "python",
   "nbconvert_exporter": "python",
   "pygments_lexer": "ipython3",
   "version": "3.10.14"
  }
 },
 "nbformat": 4,
 "nbformat_minor": 4
}
