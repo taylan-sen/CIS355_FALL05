{
 "cells": [
  {
   "cell_type": "markdown",
   "metadata": {
    "colab_type": "text",
    "id": "view-in-github"
   },
   "source": [
    "<a href=\"https://colab.research.google.com/github/taylan-sen/CIS355_FALL05/blob/main/GraphTraversals.ipynb\" target=\"_parent\"><img src=\"https://colab.research.google.com/assets/colab-badge.svg\" alt=\"Open In Colab\"/></a>"
   ]
  },
  {
   "cell_type": "markdown",
   "metadata": {
    "id": "LjF6vzz4R2GK"
   },
   "source": [
    "\n",
    "\n",
    "* Below is the code for a Graph from our w3schools.com/dsa reading.\n",
    "* Note "
   ]
  },
  {
   "cell_type": "code",
   "execution_count": 4,
   "metadata": {
    "id": "bGTAm-ORRlyi"
   },
   "outputs": [],
   "source": [
    "import numpy as np\n",
    "\n",
    "class Graph:\n",
    "  def __init__(self, size):\n",
    "    self.size = size\n",
    "    self.adj_matrix = np.zeros((size,size), dtype=float)\n",
    "    self.vertex_data = [''] * self.size\n",
    "\n",
    "  def add_edge(self, vertex1_index, vertex2_index):\n",
    "    if 0 <= vertex1_index < self.size and 0 <= vertex2_index < self.size:\n",
    "        self.adj_matrix[vertex1_index, vertex2_index] = 1\n",
    "        self.adj_matrix[vertex2_index, vertex1_index] = 1\n",
    "\n",
    "  def add_vertex_data(self, vertex, data):\n",
    "    if 0 <= vertex < self.size:\n",
    "      self.vertex_data[vertex] = data\n",
    "\n",
    "  def print_graph(self):\n",
    "    print(\"Adjacency Matrix:\")\n",
    "    for row in self.adj_matrix:\n",
    "      print(' '.join(map(str, row)))\n",
    "    print(\"\\nVertex Data:\")\n",
    "    for vertex, data in enumerate(self.vertex_data):\n",
    "      print(f\"Vertex {vertex}: {data}\")\n",
    "\n"
   ]
  },
  {
   "cell_type": "code",
   "execution_count": 5,
   "metadata": {},
   "outputs": [
    {
     "name": "stdout",
     "output_type": "stream",
     "text": [
      "Adjacency Matrix:\n",
      "0.0 1.0 1.0 0.0\n",
      "1.0 0.0 1.0 0.0\n",
      "1.0 1.0 0.0 1.0\n",
      "0.0 0.0 1.0 0.0\n",
      "\n",
      "Vertex Data:\n",
      "Vertex 0: A\n",
      "Vertex 1: B\n",
      "Vertex 2: C\n",
      "Vertex 3: D\n"
     ]
    }
   ],
   "source": [
    "#\n",
    "#\n",
    "#    A----B\n",
    "#    \\   /\n",
    "#     \\ /\n",
    "#      C-----D\n",
    "#\n",
    "graph1 = Graph(4)\n",
    "graph1.add_vertex_data(0, 'A')\n",
    "graph1.add_vertex_data(1, 'B')\n",
    "graph1.add_vertex_data(2, 'C')\n",
    "graph1.add_vertex_data(3, 'D')\n",
    "\n",
    "graph1.add_edge(0,1)  # A--B\n",
    "graph1.add_edge(0,2)  # A--C\n",
    "graph1.add_edge(1,2)  # B--C\n",
    "graph1.add_edge(2,3)  # C--D\n",
    "\n",
    "graph1.print_graph()\n"
   ]
  },
  {
   "cell_type": "markdown",
   "metadata": {},
   "source": [
    "# Add method add_weighted_edge(self, )"
   ]
  },
  {
   "cell_type": "code",
   "execution_count": null,
   "metadata": {},
   "outputs": [],
   "source": [
    "import numpy as np\n",
    "\n",
    "class Graph:\n",
    "  def __init__(self, size):\n",
    "    self.size = size\n",
    "    self.adj_matrix = np.zeros((size,size), dtype=float)\n",
    "    self.vertex_data = [''] * self.size\n",
    "\n",
    "  def add_edge(self, vertex1_index, vertex2_index):\n",
    "    if 0 <= vertex1_index < self.size and 0 <= vertex2_index < self.size:\n",
    "        self.adj_matrix[vertex1_index, vertex2_index] = 1\n",
    "        self.adj_matrix[vertex2_index, vertex1_index] = 1\n",
    "\n",
    "  def add_vertex_data(self, vertex, data):\n",
    "    if 0 <= vertex < self.size:\n",
    "      self.vertex_data[vertex] = data\n",
    "\n",
    "  def print_graph(self):\n",
    "    print(\"Adjacency Matrix:\")\n",
    "    for row in self.adj_matrix:\n",
    "      print(' '.join(map(str, row)))\n",
    "    print(\"\\nVertex Data:\")\n",
    "    for vertex, data in enumerate(self.vertex_data):\n",
    "      print(f\"Vertex {vertex}: {data}\")\n",
    "\n",
    "  def add_weighted_edge(self, vertex1_index, vertex2_index, weight):\n",
    "    \"\"\" Inserts weight into the adj_matrix for vertex1 to vertex2 and\n",
    "    vertex2 to vertex1 \"\"\"\n",
    "    # TODO - insert your code here\n",
    "    pass\n",
    "      \n",
    "  def shortest_path(self, start_vertex_index, end_vertex_index):\n",
    "    \"\"\"Returns the sequence of verticies \"\"\"\n",
    "    # INITIALIZE\n",
    "    # Create variable distances_from_start[vertex_index] which represents the\n",
    "    # currently known closest distance from start_vertex to vertex_index.\n",
    "    # Initialise distances_from_start as a numpy float array of size self.size\n",
    "    # and to have 0 for start_vertex_index and inf for other vertex indices.\n",
    "    distances_from_start = np.ones(self.size, dtype=float) * np.inf\n",
    "    distances_from_start[start_vertex_index] = 0\n",
    "    # Create visited_vertices as a python set\n",
    "    visited_vertices = np.zeros(self.size, dtype=bool)\n",
    "\n",
    "    # REPEATING LOOP - once for each vertex\n",
    "    for iteration in range(self.size):\n",
    "      # PICK CURRENT CLOSEST UNVISITED VERTEX\n",
    "      closest_vertex = None\n",
    "      closest_vertex_distance = np.inf\n",
    "      for vertex_i in range(self.size):\n",
    "        if vertex_i in visited_vertices:\n",
    "          continue\n",
    "        if distances_from_start[vertex_i] < closest_vertex_distance:\n",
    "          closest_vertex = vertex_i\n",
    "          closest_vertex_distance = distances_from_start[vertex_i]\n",
    "        assert(closest_vertex)\n",
    "        \n",
    "      for next_vertex in range(self.size):\n",
    "        #skip if no connection\n",
    "        if self.adj_matrix[closest_vertex][next_vertex] == 0: \n",
    "          continue\n",
    "        # skip if already visited\n",
    "        if next_vertex in visited:  \n",
    "          continue\n",
    "        # did we find a shorter path to next_vertex?\n",
    "        new_path = distance_from_start[closest_vertex] + \\\n",
    "                   self.adj_matrix[closest_vertex][next_vertex]\n",
    "        if new_path < distances[next_vertex]:\n",
    "          distances[next_vertex] = new_path\n",
    "      if closest_vertex == end_vertex_index:\n",
    "        break\n",
    "    return distances_from_start[end_vertex_index]\n",
    "    \n",
    "    "
   ]
  }
 ],
 "metadata": {
  "colab": {
   "authorship_tag": "ABX9TyNdwC3OGyfgN7Oyqd4CrsqY",
   "include_colab_link": true,
   "provenance": []
  },
  "kernelspec": {
   "display_name": "Python 3 (ipykernel)",
   "language": "python",
   "name": "python3"
  },
  "language_info": {
   "codemirror_mode": {
    "name": "ipython",
    "version": 3
   },
   "file_extension": ".py",
   "mimetype": "text/x-python",
   "name": "python",
   "nbconvert_exporter": "python",
   "pygments_lexer": "ipython3",
   "version": "3.10.14"
  }
 },
 "nbformat": 4,
 "nbformat_minor": 4
}
