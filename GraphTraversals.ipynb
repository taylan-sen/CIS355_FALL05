{
  "nbformat": 4,
  "nbformat_minor": 0,
  "metadata": {
    "colab": {
      "provenance": [],
      "authorship_tag": "ABX9TyNdwC3OGyfgN7Oyqd4CrsqY",
      "include_colab_link": true
    },
    "kernelspec": {
      "name": "python3",
      "display_name": "Python 3"
    },
    "language_info": {
      "name": "python"
    }
  },
  "cells": [
    {
      "cell_type": "markdown",
      "metadata": {
        "id": "view-in-github",
        "colab_type": "text"
      },
      "source": [
        "<a href=\"https://colab.research.google.com/github/taylan-sen/CIS355_FALL05/blob/main/GraphTraversals.ipynb\" target=\"_parent\"><img src=\"https://colab.research.google.com/assets/colab-badge.svg\" alt=\"Open In Colab\"/></a>"
      ]
    },
    {
      "cell_type": "markdown",
      "source": [
        "Below is the code for a Graph from our w3schools.com/dsa reading."
      ],
      "metadata": {
        "id": "LjF6vzz4R2GK"
      }
    },
    {
      "cell_type": "code",
      "execution_count": null,
      "metadata": {
        "id": "bGTAm-ORRlyi"
      },
      "outputs": [],
      "source": [
        "class Graph:\n",
        "    def __init__(self, size):\n",
        "        self.adj_matrix = [[0] * size for _ in range(size)]\n",
        "        self.size = size\n",
        "        self.vertex_data = [''] * size\n",
        "\n",
        "    def add_edge(self, u, v):\n",
        "        if 0 <= u < self.size and 0 <= v < self.size:\n",
        "            self.adj_matrix[u][v] = 1\n",
        "            self.adj_matrix[v][u] = 1\n",
        "\n",
        "    def add_vertex_data(self, vertex, data):\n",
        "        if 0 <= vertex < self.size:\n",
        "            self.vertex_data[vertex] = data\n",
        "\n",
        "    def print_graph(self):\n",
        "        print(\"Adjacency Matrix:\")\n",
        "        for row in self.adj_matrix:\n",
        "            print(' '.join(map(str, row)))\n",
        "        print(\"\\nVertex Data:\")\n",
        "        for vertex, data in enumerate(self.vertex_data):\n",
        "            print(f\"Vertex {vertex}: {data}\")"
      ]
    }
  ]
}