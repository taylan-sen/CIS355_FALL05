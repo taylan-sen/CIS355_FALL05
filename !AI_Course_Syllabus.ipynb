{
 "cells": [
  {
   "cell_type": "markdown",
   "id": "ecb73a5a-5169-4db2-aa7a-341e722197a2",
   "metadata": {},
   "source": [
    "CIS 355 Intro to AI\n",
    "1. [Introduction to AI](https://github.com/taylan-sen/CIS355_FALL05/blob/main/Introduction.ipynb)\n",
    "1. [Jupyter & Python Intro](https://github.com/taylan-sen/CIS355_FALL05/blob/main/JupyterHelloWorld.ipynb)\n",
    "1. [The Representation Problem - The Farmer & the River]()"
   ]
  },
  {
   "cell_type": "code",
   "execution_count": null,
   "id": "67089b83-ae1b-4612-8e5c-0d12a0125cbc",
   "metadata": {},
   "outputs": [],
   "source": []
  }
 ],
 "metadata": {
  "kernelspec": {
   "display_name": "Python 3 (ipykernel)",
   "language": "python",
   "name": "python3"
  },
  "language_info": {
   "codemirror_mode": {
    "name": "ipython",
    "version": 3
   },
   "file_extension": ".py",
   "mimetype": "text/x-python",
   "name": "python",
   "nbconvert_exporter": "python",
   "pygments_lexer": "ipython3",
   "version": "3.10.14"
  }
 },
 "nbformat": 4,
 "nbformat_minor": 5
}
