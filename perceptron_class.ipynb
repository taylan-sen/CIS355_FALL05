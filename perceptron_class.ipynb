{
  "nbformat": 4,
  "nbformat_minor": 0,
  "metadata": {
    "colab": {
      "provenance": [],
      "authorship_tag": "ABX9TyPHJw5kUC6Pt/3xEJbtYlCP",
      "include_colab_link": true
    },
    "kernelspec": {
      "name": "python3",
      "display_name": "Python 3"
    },
    "language_info": {
      "name": "python"
    }
  },
  "cells": [
    {
      "cell_type": "markdown",
      "metadata": {
        "id": "view-in-github",
        "colab_type": "text"
      },
      "source": [
        "<a href=\"https://colab.research.google.com/github/taylan-sen/CIS355_FALL05/blob/main/perceptron_class.ipynb\" target=\"_parent\"><img src=\"https://colab.research.google.com/assets/colab-badge.svg\" alt=\"Open In Colab\"/></a>"
      ]
    },
    {
      "cell_type": "markdown",
      "source": [
        "In this notebook we continue coding a perceptron (linear ML model with the perceptron training algorithm)\n",
        "\n",
        "\n",
        "* **np.array** - used to initialize an nd array\n",
        "* **np.zeros((dim))** - initializes ndarray w zeros\n",
        "* **np.ones((dim))** - initialize w ones\n",
        "* **np.random.rand((dim))** - initialize with random floats [0,1)\n",
        "* **ndarray.shape** - prints the dimensions\n",
        "* **ndarray.T** - swaps matrix rows and cols (transpose\n",
        "* **np.sign(x)** - returns 1 if x is >= 0, and -1 if x < 0. Also works on ndarrays.\n",
        "* **np.random.rand(shape)** - returns an ndarray of shape with each element pseudorandom number between 0 and 1.\n",
        "* **np.matrixmul(A,B)** - matrix multiplication"
      ],
      "metadata": {
        "id": "U-sAfsItfq0R"
      }
    },
    {
      "cell_type": "code",
      "execution_count": null,
      "metadata": {
        "colab": {
          "base_uri": "https://localhost:8080/"
        },
        "id": "QOfDc6JqXlFy",
        "outputId": "643648ec-3a49-42d3-e43d-efbccf1b2c15"
      },
      "outputs": [
        {
          "output_type": "stream",
          "name": "stdout",
          "text": [
            "(4, 2)\n",
            "(4,)\n",
            "(4, 2, 2)\n"
          ]
        }
      ],
      "source": [
        "import numpy as np\n",
        "import matplotlib.pyplot as plt\n",
        "\n",
        "# we use X for input (2d input, ex: height & weight)\n",
        "# we use y for output 1 or 0.\n",
        "# y is binary, X is continous\n",
        "\n",
        "X = np.array([[1,1],[1,0],[-1,0],[-1,-1]])\n",
        "y = np.array([1,1,0,0])\n",
        "z = np.array([[[1,1],[2,2]],[[3,3],[5,4]],[[1,1],[2,2]],[[3,3],[5,4]]])\n",
        "\n",
        "\n",
        "print(X.shape)\n",
        "print(y.shape)\n",
        "print(z.shape)"
      ]
    },
    {
      "cell_type": "markdown",
      "source": [
        "### class Perceptron\n",
        "* **attributes**\n",
        "  * X - training input\n",
        "  * y - training output\n",
        "  * weights\n",
        "  * b - the intercept\n",
        "* **members**\n",
        "  * train_human - lets a user manually enter weights and intercept.\n",
        "  * predict - given an input matrix, predicts outputs.\n",
        "  * train_iteration - uses the perceptron training algorithm to go through training data once.\n",
        "  * plot - plots the training set along with the decision boundary\n",
        "  * error - prints out the accuracy on the training set using current weights and b."
      ],
      "metadata": {
        "id": "r9pO7PEkYrP2"
      }
    },
    {
      "cell_type": "code",
      "source": [
        "import numpy as np\n",
        "import matplotlib.pyplot as plt\n",
        "\n",
        "class Perceptron:\n",
        "  \"\"\" This class will implement a basic perceptron of any\n",
        "  dimension, allow training using human input, and the\n",
        "  perceptron training algorithm. \"\"\"\n",
        "  def __init__(self, X, y):\n",
        "    # the array index is sample #\n",
        "    self.X = X # the input, shape (num_datapts, input_dim)\n",
        "    self.y = y # the output, shape (input_dim,)\n",
        "    num_datapts, input_dim = X.shape\n",
        "    # initialize paramters with random values between 0,1\n",
        "    self.weights = np.random.rand(2) - 0.5\n",
        "    self.b = np.random.rand() - 0.5\n",
        "\n",
        "  def plot(self):\n",
        "    \"\"\" Plots data and interface boundary. Only works on\n",
        "    2d data. \"\"\"\n",
        "    plt.figure(figsize=(3,3))\n",
        "    plt.scatter(X[:,0],X[:,1], c=self.y) # add c to change color\n",
        "\n",
        "    x0min = np.min(X[:,0])\n",
        "    x0max = np.max(X[:,0])\n",
        "\n",
        "    x1min = np.min(X[:,1])\n",
        "    x1max = np.max(X[:,1])\n",
        "    # p1 = [x0min, x1min]\n",
        "    # p2 = [x0max, x1max]\n",
        "    # calculate X1 from x0 and weights\n",
        "    x1min = -(self.weights[0] * x0min) / self.weights[1]\n",
        "    x1max =  -(self.weights[0] * x0max) / self.weights[1]\n",
        "    plt.plot([x0min, x0max],[x1min,x1max])\n",
        "\n",
        "    plt.show()\n",
        "\n",
        "  def train_human(self):\n",
        "    \"\"\" Updates weights based on human input \"\"\"\n",
        "    print('current weights: ', self.weights)\n",
        "    self.weights[0] = float(input('Enter w0:'))\n",
        "\n",
        "  def predict(self, X_):\n",
        "    \"\"\" Given input X_, determines the outputs -1 or 1, for each datapoint\n",
        "    . X_ shape (num_datapts, input_dim)\n",
        "    . function output shape (num_datapts,) \"\"\"\n",
        "    #\n",
        "    scores = np.matmul(X_, self.weights) + self.b # shape (num_datapts,)\n",
        "    y_prediction = np.sign(scores)\n",
        "    return y_prediction\n",
        "\n",
        "  def train_iteration(self):\n",
        "    \"\"\" \"\"\"\n",
        "    for i in range(self.X.shape[0]):\n",
        "      x = self.X[i]\n",
        "      score = self.weights[0]*x[0] + self.weights[1]*x[1] + self.b\n",
        "      y_pred = np.sign(score)\n",
        "      # if incorrect, update weight, otherwise go to next datapoint\n",
        "      if y_pred != self.y[i]:\n",
        "        # find best_weight_for_x\n",
        "        if self.y[i] == 1:\n",
        "          best_weight_for_x = x\n",
        "          best_b_for_x = 1\n",
        "        else:\n",
        "          best_weight_for_x = -x\n",
        "          best_b_for_x = -1\n",
        "\n",
        "        self.weights = self.weights + best_weight_for_x\n",
        "        self.b = self.b + best_b_for_x\n",
        "\n"
      ],
      "metadata": {
        "id": "tJWMv1C80v5-"
      },
      "execution_count": 1,
      "outputs": []
    },
    {
      "cell_type": "code",
      "source": [
        "# EXAMPLE DATA\n",
        "X = np.array([[1,1],[-1,-1],[1,0]])\n",
        "y = np.array([1,-1,1])\n",
        "\n",
        "my_p = Perceptron(X,y)\n",
        "#X.shape\n",
        "#type(my_p)\n",
        "\n",
        "# LOOP\n",
        "my_p.plot()\n",
        "while True:\n",
        "  #my_p.train_human()\n",
        "  z = input('press enter for next iter:')\n",
        "  my_p.train_iteration()\n",
        "  my_p.plot()"
      ],
      "metadata": {
        "id": "p0ucogWzEro0"
      },
      "execution_count": null,
      "outputs": []
    }
  ]
}