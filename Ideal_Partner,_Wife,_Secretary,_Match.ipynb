{
  "nbformat": 4,
  "nbformat_minor": 0,
  "metadata": {
    "colab": {
      "provenance": [],
      "authorship_tag": "ABX9TyMfXGsUKR9R0NCEYZD1pElR",
      "include_colab_link": true
    },
    "kernelspec": {
      "name": "python3",
      "display_name": "Python 3"
    },
    "language_info": {
      "name": "python"
    }
  },
  "cells": [
    {
      "cell_type": "markdown",
      "metadata": {
        "id": "view-in-github",
        "colab_type": "text"
      },
      "source": [
        "<a href=\"https://colab.research.google.com/github/taylan-sen/CIS355_FALL05/blob/main/Ideal_Partner%2C_Wife%2C_Secretary%2C_Match.ipynb\" target=\"_parent\"><img src=\"https://colab.research.google.com/assets/colab-badge.svg\" alt=\"Open In Colab\"/></a>"
      ]
    },
    {
      "cell_type": "markdown",
      "source": [
        "# Randomized Algorithms\n",
        "\n",
        "**Randomized Algorithms** : Randomization is used at some point in order to make the algorithm simpler, or more space or time efficient.\n",
        "\n",
        "<img src=\"https://www.cotedazur.de/images/Casino-de-Monte-Carlo.jpg\">\n",
        "Casino de Monte Carlo\n",
        "\n",
        "**Monte Carlo algorithm**\n",
        "* used when an analytical solution is too tough, but simulation is easy\n",
        "* used when speed is important i.e. you have fixed time\n",
        "* used when you don't need the ***optimal*** solution, just a *good* chance of getting a *good* solution.\n",
        "\n",
        "## Exercises\n",
        "\n",
        "1. Monte Calro estimation of Pi\n",
        "1. Randomized algorithm with grid search/brute force to find the ideal paramter to solve the \"Soul Mate\" problem.\n",
        "\n",
        "\n"
      ],
      "metadata": {
        "id": "gLJcRJ_t0zTX"
      }
    },
    {
      "cell_type": "code",
      "execution_count": 1,
      "metadata": {
        "colab": {
          "base_uri": "https://localhost:8080/"
        },
        "id": "QsWxdZAa0uKx",
        "outputId": "9e2365e0-3559-413e-b521-666efdfd6423"
      },
      "outputs": [
        {
          "output_type": "stream",
          "name": "stdout",
          "text": [
            "0.0708089270590726\n"
          ]
        }
      ],
      "source": [
        "import random\n",
        "random.seed(66)\n",
        "print(random.random())"
      ]
    },
    {
      "cell_type": "code",
      "source": [
        "def in_circle(num_points : int) -> int:\n",
        "  \"\"\" for num_points times:\n",
        "    - randomly picks a point in a unit square\n",
        "    - counts the number of points falling in the upper\n",
        "    right quadrant of a unit circle.\n",
        "  \"\"\"\n",
        "  num_in_circle = 0\n",
        "  for i in range(num_points):\n",
        "    x = random.random()\n",
        "    y = random.random()\n",
        "    if x**2 + y**2 <= 1:\n",
        "      num_in_circle += 1\n",
        "  return num_in_circle\n",
        "\n",
        "n = 10000000\n",
        "n_circle = in_circle(n)\n",
        "print('Pi estimate:', 4*n_circle/n)"
      ],
      "metadata": {
        "colab": {
          "base_uri": "https://localhost:8080/"
        },
        "id": "Tx_uOgNC2x5f",
        "outputId": "d033025f-8bba-41a6-e6aa-ebec2d82e8ff"
      },
      "execution_count": 2,
      "outputs": [
        {
          "output_type": "stream",
          "name": "stdout",
          "text": [
            "Pi estimate: 3.1412456\n"
          ]
        }
      ]
    },
    {
      "cell_type": "markdown",
      "source": [],
      "metadata": {
        "id": "dzSm2i3k4ahT"
      }
    },
    {
      "cell_type": "code",
      "source": [
        "def find_max(candidates):\n",
        "  \"\"\" Given a list of int, return the max int in list \"\"\"\n",
        "  max = candidates[0]\n",
        "  for i in candidates:\n",
        "    if i > max:\n",
        "      max = i\n",
        "  return max\n",
        "\n",
        "\n",
        "def select_first_better(target, candidates):\n",
        "\n",
        "  for i in candidates:\n",
        "    if i > target:\n",
        "      break\n",
        "  return i\n",
        "\n",
        "def eval_success(population : int, num_sims_each : int):\n",
        "  \"\"\" trying different numbers for num_dates, from 0 to population - 1,\n",
        "        runs num_sims_each shuffles of the numbers 0 to population - 1, and counts the number of times the second largest number has an index larger than or equal to i.\n",
        "  \"\"\"\n",
        "  success_table = []\n",
        "  for num_dates in range(1, population):\n",
        "    successes = 0\n",
        "    for sim in range(num_sims_each):\n",
        "      order = list(range(population))\n",
        "      random.shuffle(order)\n",
        "      first_group = order[0:num_dates]\n",
        "      second_group = order[num_dates:]\n",
        "      best_in_first_group = find_max(first_group)\n",
        "      selected_mate = select_first_better(best_in_first_group, second_group)\n",
        "      if selected_mate == population -1:\n",
        "        successes += 1\n",
        "    success_table.append(successes)\n",
        "  return success_table\n",
        "\n",
        "population = 20\n",
        "num_sims_each = 1000\n",
        "y = eval_success(population, num_sims_each)\n"
      ],
      "metadata": {
        "id": "gAcJL44Tm49P"
      },
      "execution_count": 4,
      "outputs": []
    },
    {
      "cell_type": "code",
      "source": [
        "import matplotlib.pyplot as plt\n",
        "import numpy as np\n",
        "\n",
        "x = list(range(1, population))\n",
        "plt.plot(np.array(x)/population, np.array(y)/num_sims_each)\n",
        "plt.grid(True)\n",
        "plt.show()"
      ],
      "metadata": {
        "colab": {
          "base_uri": "https://localhost:8080/",
          "height": 430
        },
        "id": "be0QglN-8tDD",
        "outputId": "6ceeba1c-37c5-4f61-9938-3708ef2d2b44"
      },
      "execution_count": 5,
      "outputs": [
        {
          "output_type": "display_data",
          "data": {
            "text/plain": [
              "<Figure size 640x480 with 1 Axes>"
            ],
            "image/png": "[encoded data removed]"
          },
          "metadata": {}
        }
      ]
    },
    {
      "cell_type": "code",
      "source": [
        "a = list(range(20))\n",
        "random.shuffle(a)"
      ],
      "metadata": {
        "id": "T_08-DYp8Ecj"
      },
      "execution_count": null,
      "outputs": []
    }
  ]
}