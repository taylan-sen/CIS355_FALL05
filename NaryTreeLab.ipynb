{
 "cells": [
  {
   "cell_type": "markdown",
   "metadata": {
    "colab_type": "text",
    "id": "view-in-github"
   },
   "source": [
    "<a href=\"https://colab.research.google.com/github/taylan-sen/CIS355_FALL05/blob/main/NaryTreeLab.ipynb\" target=\"_parent\"><img src=\"https://colab.research.google.com/assets/colab-badge.svg\" alt=\"Open In Colab\"/></a>"
   ]
  },
  {
   "cell_type": "markdown",
   "metadata": {},
   "source": [
    "### N-ary Trees\n",
    "In this lab assignment you will be implementing an N-ary Tree as a python class.   \n",
    "\n",
    "1. Start by creating a github repository called called \"HW3_search\" and adding my used id (taylan-sen) as a collaborator (look up how to do this.)  \n",
    "1. If you haven't already. click on the button above\n"
   ]
  },
  {
   "cell_type": "markdown",
   "metadata": {},
   "source": [
    "### Definitions\n",
    "\n",
    "**Fill in the definitions for the following terms:**\n",
    "* tree\n",
    "* node\n",
    "* parent\n",
    "* child\n",
    "* leaf\n",
    "* n-ary tree\n",
    "\n",
    "After completing the above defintions, save and commit to your  \n"
   ]
  },
  {
   "cell_type": "markdown",
   "metadata": {
    "id": "oluovDXETd4p"
   },
   "source": [
    "### Coding\n",
    "\n",
    "**Implement a class NaryTree which has the following:**\n",
    "* attributes:\n",
    "  * count - the number of nodes in the tree\n",
    "  * root - a reference to the root node. None if there are no nodes.\n",
    "* methods:\n",
    "  * addChildToMe(self, parentNode, newNode) - attaches newNode to parentNode's children.\n",
    "  * printDFS(self) - performs a depth first search walk, printing each nodes' label\n",
    "  * printBFS - performs a breadth first search walk, printing each nodes' label\n",
    "\n",
    "The class for Node is given below (which you must use)."
   ]
  },
  {
   "cell_type": "code",
   "execution_count": 2,
   "metadata": {
    "id": "74zQ6wvXTbpe"
   },
   "outputs": [],
   "source": [
    "class Node:\n",
    "  \"\"\"Implements a basic binary tree node\"\"\"\n",
    "  def __init__(self):\n",
    "    self.parent = None\n",
    "    self.children = []\n",
    "    self.data = None\n",
    "\n",
    "  def addChildToMe(self, childNode):\n",
    "    \"\"\"Adds the childNode to this node's children array by appending. \"\"\"\n",
    "    self.children.append(childNode)\n",
    "    childNode.parent = self\n",
    "\n",
    "  def printDFS(self):\n",
    "    \"\"\" Prints out all nodes's data doing a DFS walk \"\"\"\n",
    "    for child in self.children:\n",
    "      print(child.data)\n",
    "      child.printDFS()\n",
    "\n",
    "class NaryTree:\n",
    "  \"\"\"Implements a minimal NaryTree supporting a breadth first walk and a depth-first walk \"\"\"\n",
    "\n",
    "  def __init__(self):\n",
    "    \"\"\"adds a root node\"\"\"\n",
    "    self.count = 1\n",
    "    self.root = Node()\n",
    "    self.root.data = \"root\"  # can be renamed\n",
    "\n",
    "  def addChildToMe(self, parentNode, newNode):\n",
    "     parentNode.addChildToMe(newNode)\n",
    "     self.count += 1\n",
    "\n",
    "  def printDFS(self):\n",
    "    \"\"\"Print out all nodes in this tree doing a DFS.\n",
    "    Descend each child node in sequence, backtrack\"\"\"\n",
    "    print(self.root.data)\n",
    "    self.root.printDFS()\n",
    "\n",
    "  def printBFS(self):\n",
    "    # TODO, insert your code here\n",
    "    pass\n"
   ]
  },
  {
   "cell_type": "code",
   "execution_count": 33,
   "metadata": {
    "colab": {
     "base_uri": "https://localhost:8080/"
    },
    "id": "9aY3zgmanjaT",
    "outputId": "5b17ed42-2e6b-4cda-a554-275422f0cdde"
   },
   "outputs": [
    {
     "name": "stdout",
     "output_type": "stream",
     "text": [
      "A\n",
      "B\n",
      "D\n",
      "C\n"
     ]
    }
   ],
   "source": [
    "# TEST CODE - Depth first search\n",
    "#--------------------------------------------------------\n",
    "# In this test case, we will create a BinaryTree with the structure:\n",
    "#     A\n",
    "#    / \\\n",
    "#   B   C\n",
    "#    \\\n",
    "#     D\n",
    "#\n",
    "# A is the root. A has left child B and right child C.\n",
    "# B has right child D.\n",
    "#\n",
    "# we will then call printDFS() and check that the result is ABDC\n",
    "# we will call printBFS() and check that the result is ABCD\n",
    "#\n",
    "#--------------------------------------------------------\n",
    "\n",
    "# create the BinaryTree, fill in nodes properly connected\n",
    "my_tree = NaryTree()\n",
    "my_tree.root.data = 'A'\n",
    "\n",
    "# add B\n",
    "nodeB = Node()\n",
    "nodeB.data = 'B'\n",
    "my_tree.addChildToMe(my_tree.root, nodeB)\n",
    "\n",
    "# add C\n",
    "nodeC = Node() # create a new instance of the Node class\n",
    "nodeC.data = 'C'\n",
    "my_tree.addChildToMe(my_tree.root, nodeC)\n",
    "\n",
    "# add D\n",
    "nodeD = Node()\n",
    "nodeD.data = \"D\"\n",
    "my_tree.addChildToMe(nodeB, nodeD)\n",
    "\n",
    "# call Depth First Search, looking for ABDC\n",
    "my_tree.printDFS()\n"
   ]
  },
  {
   "cell_type": "code",
   "execution_count": 6,
   "metadata": {
    "colab": {
     "base_uri": "https://localhost:8080/"
    },
    "id": "Tc36hcW2RjfL",
    "outputId": "03ab6e91-8efb-4021-d85f-919a205cd797"
   },
   "outputs": [
    {
     "name": "stdout",
     "output_type": "stream",
     "text": [
      "True\n",
      "False\n",
      "{'B', 'A'}\n"
     ]
    }
   ],
   "source": [
    "# You may find it useful to use a python set data structure. It has the \n",
    "# useful property of only keeping one copy of identical data added. It also\n",
    "# has a quick test for membership in the set using the in keyword.\n",
    "myset = set()\n",
    "myset.add('A')\n",
    "myset.add('A')     # does nothing since already has 'A'\n",
    "myset.add('B')\n",
    "myset.add('C')\n",
    "myset.remove('C')  # 'C' is removed\n",
    "print('B' in myset)\n",
    "print('X' in myset)\n",
    "print(myset)"
   ]
  },
  {
   "cell_type": "code",
   "execution_count": null,
   "metadata": {
    "id": "p_4XGnFpRp2j"
   },
   "outputs": [],
   "source": [
    "# now create a test case for Breadth First walk and complete\n",
    "# the method for breadth-first walk."
   ]
  }
 ],
 "metadata": {
  "colab": {
   "authorship_tag": "ABX9TyOBUEQvGWkywn0an2Al6hHa",
   "include_colab_link": true,
   "provenance": []
  },
  "kernelspec": {
   "display_name": "Python 3 (ipykernel)",
   "language": "python",
   "name": "python3"
  },
  "language_info": {
   "codemirror_mode": {
    "name": "ipython",
    "version": 3
   },
   "file_extension": ".py",
   "mimetype": "text/x-python",
   "name": "python",
   "nbconvert_exporter": "python",
   "pygments_lexer": "ipython3",
   "version": "3.10.14"
  }
 },
 "nbformat": 4,
 "nbformat_minor": 4
}
